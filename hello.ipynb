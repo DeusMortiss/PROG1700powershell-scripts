{
 "cells": [
  {
   "cell_type": "code",
   "execution_count": 2,
   "source": [
    "\r\n"
   ],
   "outputs": [
    {
     "output_type": "stream",
     "name": "stdout",
     "text": [
      "\u001b[91mimport: \u001b[91mThe term 'import' is not recognized as a name of a cmdlet, function, script file, or executable program.\n",
      "Check the spelling of the name, or if a path was included, verify that the path is correct and try again.\u001b[0m\n"
     ]
    }
   ],
   "metadata": {}
  }
 ],
 "metadata": {
  "orig_nbformat": 4,
  "language_info": {
   "name": "PowerShell",
   "version": "7.0",
   "mimetype": "text/x-powershell",
   "file_extension": ".ps1",
   "pygments_lexer": "powershell"
  },
  "kernelspec": {
   "name": ".net-powershell",
   "display_name": ".NET (PowerShell)",
   "language": "PowerShell"
  }
 },
 "nbformat": 4,
 "nbformat_minor": 2
}